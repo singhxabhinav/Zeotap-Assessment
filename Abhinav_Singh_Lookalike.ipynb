{
 "cells": [
  {
   "cell_type": "markdown",
   "id": "6c6f9dac",
   "metadata": {},
   "source": [
    "### Importing liberaries"
   ]
  },
  {
   "cell_type": "code",
   "execution_count": 1,
   "id": "d52bd3d7",
   "metadata": {},
   "outputs": [],
   "source": [
    "import pandas as pd\n",
    "import numpy as np\n",
    "import matplotlib.pyplot as plt\n",
    "import seaborn as sns\n",
    "from sklearn.preprocessing import StandardScaler\n",
    "from sklearn.metrics.pairwise import cosine_similarity\n",
    "\n",
    "from warnings import filterwarnings\n",
    "filterwarnings('ignore')"
   ]
  },
  {
   "cell_type": "markdown",
   "id": "673d0255",
   "metadata": {},
   "source": [
    "### Loading Data"
   ]
  },
  {
   "cell_type": "code",
   "execution_count": 2,
   "id": "ca2faccb",
   "metadata": {},
   "outputs": [
    {
     "name": "stdout",
     "output_type": "stream",
     "text": [
      "(200, 4)\n"
     ]
    },
    {
     "data": {
      "text/html": [
       "<div>\n",
       "<style scoped>\n",
       "    .dataframe tbody tr th:only-of-type {\n",
       "        vertical-align: middle;\n",
       "    }\n",
       "\n",
       "    .dataframe tbody tr th {\n",
       "        vertical-align: top;\n",
       "    }\n",
       "\n",
       "    .dataframe thead th {\n",
       "        text-align: right;\n",
       "    }\n",
       "</style>\n",
       "<table border=\"1\" class=\"dataframe\">\n",
       "  <thead>\n",
       "    <tr style=\"text-align: right;\">\n",
       "      <th></th>\n",
       "      <th>CustomerID</th>\n",
       "      <th>CustomerName</th>\n",
       "      <th>Region</th>\n",
       "      <th>SignupDate</th>\n",
       "    </tr>\n",
       "  </thead>\n",
       "  <tbody>\n",
       "    <tr>\n",
       "      <th>0</th>\n",
       "      <td>C0001</td>\n",
       "      <td>Lawrence Carroll</td>\n",
       "      <td>South America</td>\n",
       "      <td>2022-07-10</td>\n",
       "    </tr>\n",
       "    <tr>\n",
       "      <th>1</th>\n",
       "      <td>C0002</td>\n",
       "      <td>Elizabeth Lutz</td>\n",
       "      <td>Asia</td>\n",
       "      <td>2022-02-13</td>\n",
       "    </tr>\n",
       "    <tr>\n",
       "      <th>2</th>\n",
       "      <td>C0003</td>\n",
       "      <td>Michael Rivera</td>\n",
       "      <td>South America</td>\n",
       "      <td>2024-03-07</td>\n",
       "    </tr>\n",
       "    <tr>\n",
       "      <th>3</th>\n",
       "      <td>C0004</td>\n",
       "      <td>Kathleen Rodriguez</td>\n",
       "      <td>South America</td>\n",
       "      <td>2022-10-09</td>\n",
       "    </tr>\n",
       "    <tr>\n",
       "      <th>4</th>\n",
       "      <td>C0005</td>\n",
       "      <td>Laura Weber</td>\n",
       "      <td>Asia</td>\n",
       "      <td>2022-08-15</td>\n",
       "    </tr>\n",
       "  </tbody>\n",
       "</table>\n",
       "</div>"
      ],
      "text/plain": [
       "  CustomerID        CustomerName         Region  SignupDate\n",
       "0      C0001    Lawrence Carroll  South America  2022-07-10\n",
       "1      C0002      Elizabeth Lutz           Asia  2022-02-13\n",
       "2      C0003      Michael Rivera  South America  2024-03-07\n",
       "3      C0004  Kathleen Rodriguez  South America  2022-10-09\n",
       "4      C0005         Laura Weber           Asia  2022-08-15"
      ]
     },
     "execution_count": 2,
     "metadata": {},
     "output_type": "execute_result"
    }
   ],
   "source": [
    "customer=pd.read_csv('C:/Users/HP/OneDrive/Desktop/Zeotap Assignment/Customers.csv')\n",
    "print(customer.shape)\n",
    "customer.head()"
   ]
  },
  {
   "cell_type": "code",
   "execution_count": 3,
   "id": "6c6fc94b",
   "metadata": {},
   "outputs": [
    {
     "name": "stdout",
     "output_type": "stream",
     "text": [
      "(100, 4)\n"
     ]
    },
    {
     "data": {
      "text/html": [
       "<div>\n",
       "<style scoped>\n",
       "    .dataframe tbody tr th:only-of-type {\n",
       "        vertical-align: middle;\n",
       "    }\n",
       "\n",
       "    .dataframe tbody tr th {\n",
       "        vertical-align: top;\n",
       "    }\n",
       "\n",
       "    .dataframe thead th {\n",
       "        text-align: right;\n",
       "    }\n",
       "</style>\n",
       "<table border=\"1\" class=\"dataframe\">\n",
       "  <thead>\n",
       "    <tr style=\"text-align: right;\">\n",
       "      <th></th>\n",
       "      <th>ProductID</th>\n",
       "      <th>ProductName</th>\n",
       "      <th>Category</th>\n",
       "      <th>Price</th>\n",
       "    </tr>\n",
       "  </thead>\n",
       "  <tbody>\n",
       "    <tr>\n",
       "      <th>0</th>\n",
       "      <td>P001</td>\n",
       "      <td>ActiveWear Biography</td>\n",
       "      <td>Books</td>\n",
       "      <td>169.30</td>\n",
       "    </tr>\n",
       "    <tr>\n",
       "      <th>1</th>\n",
       "      <td>P002</td>\n",
       "      <td>ActiveWear Smartwatch</td>\n",
       "      <td>Electronics</td>\n",
       "      <td>346.30</td>\n",
       "    </tr>\n",
       "    <tr>\n",
       "      <th>2</th>\n",
       "      <td>P003</td>\n",
       "      <td>ComfortLiving Biography</td>\n",
       "      <td>Books</td>\n",
       "      <td>44.12</td>\n",
       "    </tr>\n",
       "    <tr>\n",
       "      <th>3</th>\n",
       "      <td>P004</td>\n",
       "      <td>BookWorld Rug</td>\n",
       "      <td>Home Decor</td>\n",
       "      <td>95.69</td>\n",
       "    </tr>\n",
       "    <tr>\n",
       "      <th>4</th>\n",
       "      <td>P005</td>\n",
       "      <td>TechPro T-Shirt</td>\n",
       "      <td>Clothing</td>\n",
       "      <td>429.31</td>\n",
       "    </tr>\n",
       "  </tbody>\n",
       "</table>\n",
       "</div>"
      ],
      "text/plain": [
       "  ProductID              ProductName     Category   Price\n",
       "0      P001     ActiveWear Biography        Books  169.30\n",
       "1      P002    ActiveWear Smartwatch  Electronics  346.30\n",
       "2      P003  ComfortLiving Biography        Books   44.12\n",
       "3      P004            BookWorld Rug   Home Decor   95.69\n",
       "4      P005          TechPro T-Shirt     Clothing  429.31"
      ]
     },
     "execution_count": 3,
     "metadata": {},
     "output_type": "execute_result"
    }
   ],
   "source": [
    "products=pd.read_csv('C:/Users/HP/OneDrive/Desktop/Zeotap Assignment/Products.csv')\n",
    "print(products.shape)\n",
    "products.head()"
   ]
  },
  {
   "cell_type": "code",
   "execution_count": 4,
   "id": "666f8ffe",
   "metadata": {},
   "outputs": [
    {
     "name": "stdout",
     "output_type": "stream",
     "text": [
      "(1000, 7)\n"
     ]
    },
    {
     "data": {
      "text/html": [
       "<div>\n",
       "<style scoped>\n",
       "    .dataframe tbody tr th:only-of-type {\n",
       "        vertical-align: middle;\n",
       "    }\n",
       "\n",
       "    .dataframe tbody tr th {\n",
       "        vertical-align: top;\n",
       "    }\n",
       "\n",
       "    .dataframe thead th {\n",
       "        text-align: right;\n",
       "    }\n",
       "</style>\n",
       "<table border=\"1\" class=\"dataframe\">\n",
       "  <thead>\n",
       "    <tr style=\"text-align: right;\">\n",
       "      <th></th>\n",
       "      <th>TransactionID</th>\n",
       "      <th>CustomerID</th>\n",
       "      <th>ProductID</th>\n",
       "      <th>TransactionDate</th>\n",
       "      <th>Quantity</th>\n",
       "      <th>TotalValue</th>\n",
       "      <th>Price</th>\n",
       "    </tr>\n",
       "  </thead>\n",
       "  <tbody>\n",
       "    <tr>\n",
       "      <th>0</th>\n",
       "      <td>T00001</td>\n",
       "      <td>C0199</td>\n",
       "      <td>P067</td>\n",
       "      <td>2024-08-25 12:38:23</td>\n",
       "      <td>1</td>\n",
       "      <td>300.68</td>\n",
       "      <td>300.68</td>\n",
       "    </tr>\n",
       "    <tr>\n",
       "      <th>1</th>\n",
       "      <td>T00112</td>\n",
       "      <td>C0146</td>\n",
       "      <td>P067</td>\n",
       "      <td>2024-05-27 22:23:54</td>\n",
       "      <td>1</td>\n",
       "      <td>300.68</td>\n",
       "      <td>300.68</td>\n",
       "    </tr>\n",
       "    <tr>\n",
       "      <th>2</th>\n",
       "      <td>T00166</td>\n",
       "      <td>C0127</td>\n",
       "      <td>P067</td>\n",
       "      <td>2024-04-25 07:38:55</td>\n",
       "      <td>1</td>\n",
       "      <td>300.68</td>\n",
       "      <td>300.68</td>\n",
       "    </tr>\n",
       "    <tr>\n",
       "      <th>3</th>\n",
       "      <td>T00272</td>\n",
       "      <td>C0087</td>\n",
       "      <td>P067</td>\n",
       "      <td>2024-03-26 22:55:37</td>\n",
       "      <td>2</td>\n",
       "      <td>601.36</td>\n",
       "      <td>300.68</td>\n",
       "    </tr>\n",
       "    <tr>\n",
       "      <th>4</th>\n",
       "      <td>T00363</td>\n",
       "      <td>C0070</td>\n",
       "      <td>P067</td>\n",
       "      <td>2024-03-21 15:10:10</td>\n",
       "      <td>3</td>\n",
       "      <td>902.04</td>\n",
       "      <td>300.68</td>\n",
       "    </tr>\n",
       "  </tbody>\n",
       "</table>\n",
       "</div>"
      ],
      "text/plain": [
       "  TransactionID CustomerID ProductID      TransactionDate  Quantity  \\\n",
       "0        T00001      C0199      P067  2024-08-25 12:38:23         1   \n",
       "1        T00112      C0146      P067  2024-05-27 22:23:54         1   \n",
       "2        T00166      C0127      P067  2024-04-25 07:38:55         1   \n",
       "3        T00272      C0087      P067  2024-03-26 22:55:37         2   \n",
       "4        T00363      C0070      P067  2024-03-21 15:10:10         3   \n",
       "\n",
       "   TotalValue   Price  \n",
       "0      300.68  300.68  \n",
       "1      300.68  300.68  \n",
       "2      300.68  300.68  \n",
       "3      601.36  300.68  \n",
       "4      902.04  300.68  "
      ]
     },
     "execution_count": 4,
     "metadata": {},
     "output_type": "execute_result"
    }
   ],
   "source": [
    "transactions=pd.read_csv('C:/Users/HP/OneDrive/Desktop/Zeotap Assignment/Transactions.csv')\n",
    "print(transactions.shape)\n",
    "transactions.head()"
   ]
  },
  {
   "cell_type": "markdown",
   "id": "f2a2e7f4",
   "metadata": {},
   "source": [
    "### Data Preparation"
   ]
  },
  {
   "cell_type": "code",
   "execution_count": 5,
   "id": "7f75072b",
   "metadata": {},
   "outputs": [
    {
     "data": {
      "text/html": [
       "<div>\n",
       "<style scoped>\n",
       "    .dataframe tbody tr th:only-of-type {\n",
       "        vertical-align: middle;\n",
       "    }\n",
       "\n",
       "    .dataframe tbody tr th {\n",
       "        vertical-align: top;\n",
       "    }\n",
       "\n",
       "    .dataframe thead th {\n",
       "        text-align: right;\n",
       "    }\n",
       "</style>\n",
       "<table border=\"1\" class=\"dataframe\">\n",
       "  <thead>\n",
       "    <tr style=\"text-align: right;\">\n",
       "      <th></th>\n",
       "      <th>CustomerID</th>\n",
       "      <th>CustomerName</th>\n",
       "      <th>Region</th>\n",
       "      <th>SignupDate</th>\n",
       "      <th>TransactionID</th>\n",
       "      <th>ProductID</th>\n",
       "      <th>TransactionDate</th>\n",
       "      <th>Quantity</th>\n",
       "      <th>TotalValue</th>\n",
       "      <th>transaction_price</th>\n",
       "      <th>ProductName</th>\n",
       "      <th>Category</th>\n",
       "      <th>product_price</th>\n",
       "    </tr>\n",
       "  </thead>\n",
       "  <tbody>\n",
       "    <tr>\n",
       "      <th>0</th>\n",
       "      <td>C0001</td>\n",
       "      <td>Lawrence Carroll</td>\n",
       "      <td>South America</td>\n",
       "      <td>2022-07-10</td>\n",
       "      <td>T00015</td>\n",
       "      <td>P054</td>\n",
       "      <td>2024-01-19 03:12:55</td>\n",
       "      <td>2</td>\n",
       "      <td>114.6</td>\n",
       "      <td>57.3</td>\n",
       "      <td>SoundWave Cookbook</td>\n",
       "      <td>Books</td>\n",
       "      <td>57.3</td>\n",
       "    </tr>\n",
       "    <tr>\n",
       "      <th>1</th>\n",
       "      <td>C0019</td>\n",
       "      <td>Brandon Rodriguez</td>\n",
       "      <td>Europe</td>\n",
       "      <td>2023-01-12</td>\n",
       "      <td>T00423</td>\n",
       "      <td>P054</td>\n",
       "      <td>2024-11-08 10:22:51</td>\n",
       "      <td>3</td>\n",
       "      <td>171.9</td>\n",
       "      <td>57.3</td>\n",
       "      <td>SoundWave Cookbook</td>\n",
       "      <td>Books</td>\n",
       "      <td>57.3</td>\n",
       "    </tr>\n",
       "    <tr>\n",
       "      <th>2</th>\n",
       "      <td>C0038</td>\n",
       "      <td>Jeffrey Perkins</td>\n",
       "      <td>North America</td>\n",
       "      <td>2022-04-16</td>\n",
       "      <td>T00395</td>\n",
       "      <td>P054</td>\n",
       "      <td>2024-03-14 08:10:08</td>\n",
       "      <td>3</td>\n",
       "      <td>171.9</td>\n",
       "      <td>57.3</td>\n",
       "      <td>SoundWave Cookbook</td>\n",
       "      <td>Books</td>\n",
       "      <td>57.3</td>\n",
       "    </tr>\n",
       "    <tr>\n",
       "      <th>3</th>\n",
       "      <td>C0039</td>\n",
       "      <td>Angela Harris</td>\n",
       "      <td>South America</td>\n",
       "      <td>2024-10-13</td>\n",
       "      <td>T00053</td>\n",
       "      <td>P054</td>\n",
       "      <td>2024-09-30 14:42:16</td>\n",
       "      <td>3</td>\n",
       "      <td>171.9</td>\n",
       "      <td>57.3</td>\n",
       "      <td>SoundWave Cookbook</td>\n",
       "      <td>Books</td>\n",
       "      <td>57.3</td>\n",
       "    </tr>\n",
       "    <tr>\n",
       "      <th>4</th>\n",
       "      <td>C0047</td>\n",
       "      <td>Samantha Frank</td>\n",
       "      <td>North America</td>\n",
       "      <td>2024-03-22</td>\n",
       "      <td>T00784</td>\n",
       "      <td>P054</td>\n",
       "      <td>2024-08-23 09:06:06</td>\n",
       "      <td>3</td>\n",
       "      <td>171.9</td>\n",
       "      <td>57.3</td>\n",
       "      <td>SoundWave Cookbook</td>\n",
       "      <td>Books</td>\n",
       "      <td>57.3</td>\n",
       "    </tr>\n",
       "  </tbody>\n",
       "</table>\n",
       "</div>"
      ],
      "text/plain": [
       "  CustomerID       CustomerName         Region  SignupDate TransactionID  \\\n",
       "0      C0001   Lawrence Carroll  South America  2022-07-10        T00015   \n",
       "1      C0019  Brandon Rodriguez         Europe  2023-01-12        T00423   \n",
       "2      C0038    Jeffrey Perkins  North America  2022-04-16        T00395   \n",
       "3      C0039      Angela Harris  South America  2024-10-13        T00053   \n",
       "4      C0047     Samantha Frank  North America  2024-03-22        T00784   \n",
       "\n",
       "  ProductID      TransactionDate  Quantity  TotalValue  transaction_price  \\\n",
       "0      P054  2024-01-19 03:12:55         2       114.6               57.3   \n",
       "1      P054  2024-11-08 10:22:51         3       171.9               57.3   \n",
       "2      P054  2024-03-14 08:10:08         3       171.9               57.3   \n",
       "3      P054  2024-09-30 14:42:16         3       171.9               57.3   \n",
       "4      P054  2024-08-23 09:06:06         3       171.9               57.3   \n",
       "\n",
       "          ProductName Category  product_price  \n",
       "0  SoundWave Cookbook    Books           57.3  \n",
       "1  SoundWave Cookbook    Books           57.3  \n",
       "2  SoundWave Cookbook    Books           57.3  \n",
       "3  SoundWave Cookbook    Books           57.3  \n",
       "4  SoundWave Cookbook    Books           57.3  "
      ]
     },
     "execution_count": 5,
     "metadata": {},
     "output_type": "execute_result"
    }
   ],
   "source": [
    "#Merging all three data\n",
    "data=pd.merge(customer,transactions,how='inner',on='CustomerID')\n",
    "data.rename(columns={'Price':'transaction_price'},inplace=True)\n",
    "data=pd.merge(data,products,how='inner',on='ProductID')\n",
    "data.rename(columns={'Price':'product_price'},inplace=True)\n",
    "data.head()\n"
   ]
  },
  {
   "cell_type": "code",
   "execution_count": 6,
   "id": "df184bbe",
   "metadata": {},
   "outputs": [
    {
     "data": {
      "text/html": [
       "<div>\n",
       "<style scoped>\n",
       "    .dataframe tbody tr th:only-of-type {\n",
       "        vertical-align: middle;\n",
       "    }\n",
       "\n",
       "    .dataframe tbody tr th {\n",
       "        vertical-align: top;\n",
       "    }\n",
       "\n",
       "    .dataframe thead th {\n",
       "        text-align: right;\n",
       "    }\n",
       "</style>\n",
       "<table border=\"1\" class=\"dataframe\">\n",
       "  <thead>\n",
       "    <tr style=\"text-align: right;\">\n",
       "      <th></th>\n",
       "      <th>CustomerID</th>\n",
       "      <th>CustomerName</th>\n",
       "      <th>Region</th>\n",
       "      <th>SignupDate</th>\n",
       "      <th>TransactionID</th>\n",
       "      <th>ProductID</th>\n",
       "      <th>TransactionDate</th>\n",
       "      <th>Quantity</th>\n",
       "      <th>TotalValue</th>\n",
       "      <th>ProductName</th>\n",
       "      <th>Category</th>\n",
       "      <th>product_price</th>\n",
       "    </tr>\n",
       "  </thead>\n",
       "  <tbody>\n",
       "    <tr>\n",
       "      <th>0</th>\n",
       "      <td>C0001</td>\n",
       "      <td>Lawrence Carroll</td>\n",
       "      <td>South America</td>\n",
       "      <td>2022-07-10</td>\n",
       "      <td>T00015</td>\n",
       "      <td>P054</td>\n",
       "      <td>2024-01-19 03:12:55</td>\n",
       "      <td>2</td>\n",
       "      <td>114.6</td>\n",
       "      <td>SoundWave Cookbook</td>\n",
       "      <td>Books</td>\n",
       "      <td>57.3</td>\n",
       "    </tr>\n",
       "    <tr>\n",
       "      <th>1</th>\n",
       "      <td>C0019</td>\n",
       "      <td>Brandon Rodriguez</td>\n",
       "      <td>Europe</td>\n",
       "      <td>2023-01-12</td>\n",
       "      <td>T00423</td>\n",
       "      <td>P054</td>\n",
       "      <td>2024-11-08 10:22:51</td>\n",
       "      <td>3</td>\n",
       "      <td>171.9</td>\n",
       "      <td>SoundWave Cookbook</td>\n",
       "      <td>Books</td>\n",
       "      <td>57.3</td>\n",
       "    </tr>\n",
       "    <tr>\n",
       "      <th>2</th>\n",
       "      <td>C0038</td>\n",
       "      <td>Jeffrey Perkins</td>\n",
       "      <td>North America</td>\n",
       "      <td>2022-04-16</td>\n",
       "      <td>T00395</td>\n",
       "      <td>P054</td>\n",
       "      <td>2024-03-14 08:10:08</td>\n",
       "      <td>3</td>\n",
       "      <td>171.9</td>\n",
       "      <td>SoundWave Cookbook</td>\n",
       "      <td>Books</td>\n",
       "      <td>57.3</td>\n",
       "    </tr>\n",
       "    <tr>\n",
       "      <th>3</th>\n",
       "      <td>C0039</td>\n",
       "      <td>Angela Harris</td>\n",
       "      <td>South America</td>\n",
       "      <td>2024-10-13</td>\n",
       "      <td>T00053</td>\n",
       "      <td>P054</td>\n",
       "      <td>2024-09-30 14:42:16</td>\n",
       "      <td>3</td>\n",
       "      <td>171.9</td>\n",
       "      <td>SoundWave Cookbook</td>\n",
       "      <td>Books</td>\n",
       "      <td>57.3</td>\n",
       "    </tr>\n",
       "    <tr>\n",
       "      <th>4</th>\n",
       "      <td>C0047</td>\n",
       "      <td>Samantha Frank</td>\n",
       "      <td>North America</td>\n",
       "      <td>2024-03-22</td>\n",
       "      <td>T00784</td>\n",
       "      <td>P054</td>\n",
       "      <td>2024-08-23 09:06:06</td>\n",
       "      <td>3</td>\n",
       "      <td>171.9</td>\n",
       "      <td>SoundWave Cookbook</td>\n",
       "      <td>Books</td>\n",
       "      <td>57.3</td>\n",
       "    </tr>\n",
       "  </tbody>\n",
       "</table>\n",
       "</div>"
      ],
      "text/plain": [
       "  CustomerID       CustomerName         Region  SignupDate TransactionID  \\\n",
       "0      C0001   Lawrence Carroll  South America  2022-07-10        T00015   \n",
       "1      C0019  Brandon Rodriguez         Europe  2023-01-12        T00423   \n",
       "2      C0038    Jeffrey Perkins  North America  2022-04-16        T00395   \n",
       "3      C0039      Angela Harris  South America  2024-10-13        T00053   \n",
       "4      C0047     Samantha Frank  North America  2024-03-22        T00784   \n",
       "\n",
       "  ProductID      TransactionDate  Quantity  TotalValue         ProductName  \\\n",
       "0      P054  2024-01-19 03:12:55         2       114.6  SoundWave Cookbook   \n",
       "1      P054  2024-11-08 10:22:51         3       171.9  SoundWave Cookbook   \n",
       "2      P054  2024-03-14 08:10:08         3       171.9  SoundWave Cookbook   \n",
       "3      P054  2024-09-30 14:42:16         3       171.9  SoundWave Cookbook   \n",
       "4      P054  2024-08-23 09:06:06         3       171.9  SoundWave Cookbook   \n",
       "\n",
       "  Category  product_price  \n",
       "0    Books           57.3  \n",
       "1    Books           57.3  \n",
       "2    Books           57.3  \n",
       "3    Books           57.3  \n",
       "4    Books           57.3  "
      ]
     },
     "execution_count": 6,
     "metadata": {},
     "output_type": "execute_result"
    }
   ],
   "source": [
    "# droping  transaction_price\n",
    "data.drop('transaction_price',axis=1,inplace=True)\n",
    "data.head()"
   ]
  },
  {
   "cell_type": "code",
   "execution_count": 7,
   "id": "d0b66544",
   "metadata": {},
   "outputs": [
    {
     "data": {
      "text/plain": [
       "(1000, 12)"
      ]
     },
     "execution_count": 7,
     "metadata": {},
     "output_type": "execute_result"
    }
   ],
   "source": [
    "data.shape"
   ]
  },
  {
   "cell_type": "code",
   "execution_count": 8,
   "id": "9f406e84",
   "metadata": {},
   "outputs": [],
   "source": [
    "customer_data=data.copy()"
   ]
  },
  {
   "cell_type": "code",
   "execution_count": 9,
   "id": "6cabec58",
   "metadata": {},
   "outputs": [
    {
     "data": {
      "text/html": [
       "<div>\n",
       "<style scoped>\n",
       "    .dataframe tbody tr th:only-of-type {\n",
       "        vertical-align: middle;\n",
       "    }\n",
       "\n",
       "    .dataframe tbody tr th {\n",
       "        vertical-align: top;\n",
       "    }\n",
       "\n",
       "    .dataframe thead th {\n",
       "        text-align: right;\n",
       "    }\n",
       "</style>\n",
       "<table border=\"1\" class=\"dataframe\">\n",
       "  <thead>\n",
       "    <tr style=\"text-align: right;\">\n",
       "      <th></th>\n",
       "      <th>CustomerID</th>\n",
       "      <th>TotalValue</th>\n",
       "      <th>Region</th>\n",
       "      <th>Category</th>\n",
       "      <th>ProductID</th>\n",
       "    </tr>\n",
       "  </thead>\n",
       "  <tbody>\n",
       "    <tr>\n",
       "      <th>0</th>\n",
       "      <td>C0001</td>\n",
       "      <td>3354.52</td>\n",
       "      <td>South America</td>\n",
       "      <td>Electronics</td>\n",
       "      <td>5</td>\n",
       "    </tr>\n",
       "    <tr>\n",
       "      <th>1</th>\n",
       "      <td>C0002</td>\n",
       "      <td>1862.74</td>\n",
       "      <td>Asia</td>\n",
       "      <td>Clothing</td>\n",
       "      <td>4</td>\n",
       "    </tr>\n",
       "    <tr>\n",
       "      <th>2</th>\n",
       "      <td>C0003</td>\n",
       "      <td>2725.38</td>\n",
       "      <td>South America</td>\n",
       "      <td>Home Decor</td>\n",
       "      <td>4</td>\n",
       "    </tr>\n",
       "    <tr>\n",
       "      <th>3</th>\n",
       "      <td>C0004</td>\n",
       "      <td>5354.88</td>\n",
       "      <td>South America</td>\n",
       "      <td>Books</td>\n",
       "      <td>8</td>\n",
       "    </tr>\n",
       "    <tr>\n",
       "      <th>4</th>\n",
       "      <td>C0005</td>\n",
       "      <td>2034.24</td>\n",
       "      <td>Asia</td>\n",
       "      <td>Electronics</td>\n",
       "      <td>3</td>\n",
       "    </tr>\n",
       "  </tbody>\n",
       "</table>\n",
       "</div>"
      ],
      "text/plain": [
       "  CustomerID  TotalValue         Region     Category  ProductID\n",
       "0      C0001     3354.52  South America  Electronics          5\n",
       "1      C0002     1862.74           Asia     Clothing          4\n",
       "2      C0003     2725.38  South America   Home Decor          4\n",
       "3      C0004     5354.88  South America        Books          8\n",
       "4      C0005     2034.24           Asia  Electronics          3"
      ]
     },
     "execution_count": 9,
     "metadata": {},
     "output_type": "execute_result"
    }
   ],
   "source": [
    "customer_features = customer_data.groupby('CustomerID').agg({\n",
    "    'TotalValue': 'sum',  # Total spend\n",
    "    'Region': lambda x: x.mode()[0],# Region\n",
    "    'Category': lambda x: x.mode()[0],  # Most common category\n",
    "    'ProductID': 'count'  # Total products purchased\n",
    "}).reset_index()\n",
    "customer_features.head()"
   ]
  },
  {
   "cell_type": "code",
   "execution_count": 10,
   "id": "096af0b4",
   "metadata": {},
   "outputs": [
    {
     "name": "stdout",
     "output_type": "stream",
     "text": [
      "Number of Rows :  199\n",
      "Number of Columns :  5\n"
     ]
    }
   ],
   "source": [
    "print('Number of Rows : ',customer_features.shape[0])\n",
    "print('Number of Columns : ',customer_features.shape[1])"
   ]
  },
  {
   "cell_type": "code",
   "execution_count": 11,
   "id": "2372bc71",
   "metadata": {},
   "outputs": [
    {
     "data": {
      "text/plain": [
       "CustomerID    0\n",
       "TotalValue    0\n",
       "Region        0\n",
       "Category      0\n",
       "ProductID     0\n",
       "dtype: int64"
      ]
     },
     "execution_count": 11,
     "metadata": {},
     "output_type": "execute_result"
    }
   ],
   "source": [
    "# Checking Null values\n",
    "customer_features.isnull().sum()"
   ]
  },
  {
   "cell_type": "code",
   "execution_count": 12,
   "id": "f161a900",
   "metadata": {},
   "outputs": [
    {
     "data": {
      "text/plain": [
       "<Axes: >"
      ]
     },
     "execution_count": 12,
     "metadata": {},
     "output_type": "execute_result"
    },
    {
     "data": {
      "image/png": "[encoded data removed]",
      "text/plain": [
       "<Figure size 640x480 with 1 Axes>"
      ]
     },
     "metadata": {},
     "output_type": "display_data"
    }
   ],
   "source": [
    "#checking outliers\n",
    "sns.boxplot(customer_features)"
   ]
  },
  {
   "cell_type": "markdown",
   "id": "4b01eced",
   "metadata": {},
   "source": [
    "### Feature Engineering"
   ]
  },
  {
   "cell_type": "code",
   "execution_count": 13,
   "id": "9b2210b0",
   "metadata": {},
   "outputs": [
    {
     "data": {
      "text/plain": [
       "array(['Books', 'Home Decor', 'Electronics', 'Clothing'], dtype=object)"
      ]
     },
     "execution_count": 13,
     "metadata": {},
     "output_type": "execute_result"
    }
   ],
   "source": [
    "data.Category.unique()"
   ]
  },
  {
   "cell_type": "code",
   "execution_count": 14,
   "id": "23974421",
   "metadata": {},
   "outputs": [
    {
     "data": {
      "text/plain": [
       "array(['South America', 'Europe', 'North America', 'Asia'], dtype=object)"
      ]
     },
     "execution_count": 14,
     "metadata": {},
     "output_type": "execute_result"
    }
   ],
   "source": [
    "data.Region.unique()"
   ]
  },
  {
   "cell_type": "code",
   "execution_count": 15,
   "id": "64c6b6c7",
   "metadata": {},
   "outputs": [],
   "source": [
    "regions={'South America':0, 'Europe':1, 'North America': 3, 'Asia': 4}\n",
    "categories={'Books':1 ,'Home Decor' : 1,'Electronics':2,'Clothing':3}\n",
    "x=customer_features['Category'].map(categories)\n",
    "y=customer_features['Region'].map(regions)"
   ]
  },
  {
   "cell_type": "code",
   "execution_count": 16,
   "id": "ca4d6a4e",
   "metadata": {},
   "outputs": [
    {
     "data": {
      "text/html": [
       "<div>\n",
       "<style scoped>\n",
       "    .dataframe tbody tr th:only-of-type {\n",
       "        vertical-align: middle;\n",
       "    }\n",
       "\n",
       "    .dataframe tbody tr th {\n",
       "        vertical-align: top;\n",
       "    }\n",
       "\n",
       "    .dataframe thead th {\n",
       "        text-align: right;\n",
       "    }\n",
       "</style>\n",
       "<table border=\"1\" class=\"dataframe\">\n",
       "  <thead>\n",
       "    <tr style=\"text-align: right;\">\n",
       "      <th></th>\n",
       "      <th>CustomerID</th>\n",
       "      <th>TotalValue</th>\n",
       "      <th>Region</th>\n",
       "      <th>Category</th>\n",
       "      <th>ProductID</th>\n",
       "    </tr>\n",
       "  </thead>\n",
       "  <tbody>\n",
       "    <tr>\n",
       "      <th>0</th>\n",
       "      <td>C0001</td>\n",
       "      <td>3354.52</td>\n",
       "      <td>0</td>\n",
       "      <td>2</td>\n",
       "      <td>5</td>\n",
       "    </tr>\n",
       "    <tr>\n",
       "      <th>1</th>\n",
       "      <td>C0002</td>\n",
       "      <td>1862.74</td>\n",
       "      <td>4</td>\n",
       "      <td>3</td>\n",
       "      <td>4</td>\n",
       "    </tr>\n",
       "    <tr>\n",
       "      <th>2</th>\n",
       "      <td>C0003</td>\n",
       "      <td>2725.38</td>\n",
       "      <td>0</td>\n",
       "      <td>1</td>\n",
       "      <td>4</td>\n",
       "    </tr>\n",
       "    <tr>\n",
       "      <th>3</th>\n",
       "      <td>C0004</td>\n",
       "      <td>5354.88</td>\n",
       "      <td>0</td>\n",
       "      <td>1</td>\n",
       "      <td>8</td>\n",
       "    </tr>\n",
       "    <tr>\n",
       "      <th>4</th>\n",
       "      <td>C0005</td>\n",
       "      <td>2034.24</td>\n",
       "      <td>4</td>\n",
       "      <td>2</td>\n",
       "      <td>3</td>\n",
       "    </tr>\n",
       "  </tbody>\n",
       "</table>\n",
       "</div>"
      ],
      "text/plain": [
       "  CustomerID  TotalValue  Region  Category  ProductID\n",
       "0      C0001     3354.52       0         2          5\n",
       "1      C0002     1862.74       4         3          4\n",
       "2      C0003     2725.38       0         1          4\n",
       "3      C0004     5354.88       0         1          8\n",
       "4      C0005     2034.24       4         2          3"
      ]
     },
     "execution_count": 16,
     "metadata": {},
     "output_type": "execute_result"
    }
   ],
   "source": [
    "customer_features['Region']=y\n",
    "customer_features['Category']=x\n",
    "customer_features.head()"
   ]
  },
  {
   "cell_type": "markdown",
   "id": "2ca04066",
   "metadata": {},
   "source": [
    "#### Feature Scaling"
   ]
  },
  {
   "cell_type": "code",
   "execution_count": 17,
   "id": "a5c08419",
   "metadata": {},
   "outputs": [
    {
     "data": {
      "text/plain": [
       "array([[ 0.15512667, -1.04595272,  0.3560345 ,  0.1077076 ],\n",
       "       [-0.75072896,  1.56892908,  1.54281616, -0.32312281],\n",
       "       [-0.22690688, -1.04595272, -0.83074716, -0.32312281],\n",
       "       [ 1.36980802, -1.04595272, -0.83074716,  1.40019886],\n",
       "       [-0.64658877,  1.56892908,  0.3560345 , -0.75395323],\n",
       "       [ 0.68527002, -1.04595272, -0.83074716, -0.32312281],\n",
       "       [-0.31529548,  1.56892908,  0.3560345 , -0.75395323],\n",
       "       [ 0.71201249,  0.91520863, -0.83074716,  2.2618597 ],\n",
       "       [-1.3374602 , -0.39223227,  1.54281616, -0.75395323],\n",
       "       [-0.83889288, -0.39223227,  1.54281616, -0.32312281],\n",
       "       [ 0.3831299 , -1.04595272, -0.83074716,  0.1077076 ],\n",
       "       [ 1.29474208, -1.04595272, -0.83074716,  0.96936844],\n",
       "       [ 1.76188518, -1.04595272,  1.54281616,  0.96936844],\n",
       "       [-1.68834278, -0.39223227, -0.83074716, -1.61561407],\n",
       "       [-1.17898496,  0.91520863, -0.83074716, -1.18478365],\n",
       "       [ 0.47082626,  0.91520863,  1.54281616,  0.1077076 ],\n",
       "       [ 1.00482553, -0.39223227, -0.83074716,  1.40019886],\n",
       "       [ 1.02184623,  0.91520863, -0.83074716,  0.1077076 ],\n",
       "       [-0.55454464, -0.39223227, -0.83074716,  0.53853802],\n",
       "       [-1.32172684,  0.91520863,  0.3560345 , -1.61561407]])"
      ]
     },
     "execution_count": 17,
     "metadata": {},
     "output_type": "execute_result"
    }
   ],
   "source": [
    "scalar=StandardScaler()\n",
    "scaled_data=scalar.fit_transform(customer_features.drop(['CustomerID'],axis=1).iloc[:20,:])\n",
    "scaled_data"
   ]
  },
  {
   "cell_type": "markdown",
   "id": "c3989310",
   "metadata": {},
   "source": [
    "### Calculate Similarities:"
   ]
  },
  {
   "cell_type": "code",
   "execution_count": 24,
   "id": "d6ed086b",
   "metadata": {},
   "outputs": [
    {
     "data": {
      "text/plain": [
       "array([[ 1.        , -0.47241939,  0.46644084,  0.4370747 , -0.80014667,\n",
       "         0.50528101, -0.81297809, -0.29991488,  0.27061481,  0.38776088,\n",
       "         0.55641781,  0.4693158 ,  0.65757529, -0.11420767, -0.67100013,\n",
       "        -0.15527173,  0.19238992, -0.60106365,  0.06424521, -0.46777293],\n",
       "       [-0.47241939,  1.        , -0.80990881, -0.79126074,  0.84267504,\n",
       "        -0.92458835,  0.82422876, -0.17702744,  0.58030371,  0.58235962,\n",
       "        -0.99192658, -0.85460443, -0.13931734, -0.01824694,  0.29144514,\n",
       "         0.78610049, -0.67706586, -0.17167858, -0.58716284,  0.64627568],\n",
       "       [ 0.46644084, -0.80990881,  1.        ,  0.30914869, -0.58722727,\n",
       "         0.81025833, -0.64520029, -0.31131873, -0.10528634, -0.22646596,\n",
       "         0.85634395,  0.40289156, -0.23583451,  0.57344459,  0.13235276,\n",
       "        -0.92001545,  0.15438232, -0.23842871,  0.62919485, -0.13416569],\n",
       "       [ 0.4370747 , -0.79126074,  0.30914869,  1.        , -0.86514991,\n",
       "         0.62360177, -0.80042201,  0.61124401, -0.71691509, -0.57054678,\n",
       "         0.74439083,  0.98827741,  0.5511743 , -0.58364481, -0.71846409,\n",
       "        -0.32766779,  0.95832511,  0.33678534,  0.38461636, -0.9737569 ],\n",
       "       [-0.80014667,  0.84267504, -0.58722727, -0.86514991,  1.        ,\n",
       "        -0.73576977,  0.9850051 , -0.20284905,  0.32694258,  0.20828285,\n",
       "        -0.85979711, -0.88369697, -0.57130988,  0.29460136,  0.71129512,\n",
       "         0.45539601, -0.70859735,  0.13102992, -0.4222909 ,  0.83349453],\n",
       "       [ 0.50528101, -0.92458835,  0.81025833,  0.62360177, -0.73576977,\n",
       "         1.        , -0.68900432, -0.12421132, -0.45471527, -0.47798036,\n",
       "         0.94001414,  0.7320734 ,  0.16778341,  0.12071779, -0.21684014,\n",
       "        -0.68393225,  0.44564778,  0.16137368,  0.2963389 , -0.46203378],\n",
       "       [-0.81297809,  0.82422876, -0.64520029, -0.80042201,  0.9850051 ,\n",
       "        -0.68900432,  1.        , -0.16365869,  0.23154123,  0.13399164,\n",
       "        -0.85041905, -0.81260932, -0.48064089,  0.18523132,  0.64116404,\n",
       "         0.52369027, -0.64800181,  0.25401049, -0.52727037,  0.76813582],\n",
       "       [-0.29991488, -0.17702744, -0.31131873,  0.61124401, -0.20284905,\n",
       "        -0.12421132, -0.16365869,  1.        , -0.72678407, -0.60727937,\n",
       "         0.06688702,  0.50760547,  0.1647678 , -0.67396187, -0.35825645,\n",
       "         0.02712917,  0.80683126,  0.58139895,  0.35956517, -0.65711547],\n",
       "       [ 0.27061481,  0.58030371, -0.10528634, -0.71691509,  0.32694258,\n",
       "        -0.45471527,  0.23154123, -0.72678407,  1.        ,  0.96449115,\n",
       "        -0.4752855 , -0.7186361 , -0.0489384 ,  0.42287727,  0.18040998,\n",
       "         0.31893488, -0.81666096, -0.86882722, -0.29833548,  0.62254474],\n",
       "       [ 0.38776088,  0.58235962, -0.22646596, -0.57054678,  0.20828285,\n",
       "        -0.47798036,  0.13399164, -0.60727937,  0.96449115,  1.        ,\n",
       "        -0.48179744, -0.59213888,  0.19934653,  0.17657094, -0.07072602,\n",
       "         0.46860949, -0.67868623, -0.86189521, -0.38116498,  0.43182321],\n",
       "       [ 0.55641781, -0.99192658,  0.85634395,  0.74439083, -0.85979711,\n",
       "         0.94001414, -0.85041905,  0.06688702, -0.4752855 , -0.48179744,\n",
       "         1.        ,  0.81563861,  0.15484851,  0.07987457, -0.29214212,\n",
       "        -0.79057296,  0.6010971 ,  0.06069778,  0.56528258, -0.60135065],\n",
       "       [ 0.4693158 , -0.85460443,  0.40289156,  0.98827741, -0.88369697,\n",
       "         0.7320734 , -0.81260932,  0.50760547, -0.7186361 , -0.59213888,\n",
       "         0.81563861,  1.        ,  0.52735908, -0.50344957, -0.67469237,\n",
       "        -0.39132391,  0.91748439,  0.34413839,  0.35911656, -0.93624177],\n",
       "       [ 0.65757529, -0.13931734, -0.23583451,  0.5511743 , -0.57130988,\n",
       "         0.16778341, -0.48064089,  0.1647678 , -0.0489384 ,  0.19934653,\n",
       "         0.15484851,  0.52735908,  1.        , -0.7861156 , -0.95872076,\n",
       "         0.46271458,  0.42133686, -0.07582382, -0.40291842, -0.68026451],\n",
       "       [-0.11420767, -0.01824694,  0.57344459, -0.58364481,  0.29460136,\n",
       "         0.12071779,  0.18523132, -0.67396187,  0.42287727,  0.17657094,\n",
       "         0.07987457, -0.50344957, -0.7861156 ,  1.        ,  0.8115083 ,\n",
       "        -0.5594457 , -0.63515409, -0.38853371,  0.30191367,  0.72285467],\n",
       "       [-0.67100013,  0.29144514,  0.13235276, -0.71846409,  0.71129512,\n",
       "        -0.21684014,  0.64116404, -0.35825645,  0.18040998, -0.07072602,\n",
       "        -0.29214212, -0.67469237, -0.95872076,  0.8115083 ,  1.        ,\n",
       "        -0.29177274, -0.61883872,  0.05847829,  0.13899399,  0.83709298],\n",
       "       [-0.15527173,  0.78610049, -0.92001545, -0.32766779,  0.45539601,\n",
       "        -0.68393225,  0.52369027,  0.02712917,  0.31893488,  0.46860949,\n",
       "        -0.79057296, -0.39132391,  0.46271458, -0.5594457 , -0.29177274,\n",
       "         1.        , -0.28024007,  0.01628593, -0.82662431,  0.13781003],\n",
       "       [ 0.19238992, -0.67706586,  0.15438232,  0.95832511, -0.70859735,\n",
       "         0.44564778, -0.64800181,  0.80683126, -0.81666096, -0.67868623,\n",
       "         0.6010971 ,  0.91748439,  0.42133686, -0.63515409, -0.61883872,\n",
       "        -0.28024007,  1.        ,  0.48062947,  0.44387821, -0.94223647],\n",
       "       [-0.60106365, -0.17167858, -0.23842871,  0.33678534,  0.13102992,\n",
       "         0.16137368,  0.25401049,  0.58139895, -0.86882722, -0.86189521,\n",
       "         0.06069778,  0.34413839, -0.07582382, -0.38853371,  0.05847829,\n",
       "         0.01628593,  0.48062947,  1.        , -0.09197122, -0.26505342],\n",
       "       [ 0.06424521, -0.58716284,  0.62919485,  0.38461636, -0.4222909 ,\n",
       "         0.2963389 , -0.52727037,  0.35956517, -0.29833548, -0.38116498,\n",
       "         0.56528258,  0.35911656, -0.40291842,  0.30191367,  0.13899399,\n",
       "        -0.82662431,  0.44387821, -0.09197122,  1.        , -0.28590327],\n",
       "       [-0.46777293,  0.64627568, -0.13416569, -0.9737569 ,  0.83349453,\n",
       "        -0.46203378,  0.76813582, -0.65711547,  0.62254474,  0.43182321,\n",
       "        -0.60135065, -0.93624177, -0.68026451,  0.72285467,  0.83709298,\n",
       "         0.13781003, -0.94223647, -0.26505342, -0.28590327,  1.        ]])"
      ]
     },
     "execution_count": 24,
     "metadata": {},
     "output_type": "execute_result"
    }
   ],
   "source": [
    "similarity_matrix = cosine_similarity(scaled_data)\n",
    "similarity_matrix"
   ]
  },
  {
   "cell_type": "code",
   "execution_count": 36,
   "id": "9b0bb4b8",
   "metadata": {},
   "outputs": [
    {
     "name": "stdout",
     "output_type": "stream",
     "text": [
      "<class 'numpy.ndarray'>\n"
     ]
    },
    {
     "data": {
      "text/plain": [
       "array([0.65757529, 0.55641781, 0.50528101])"
      ]
     },
     "execution_count": 36,
     "metadata": {},
     "output_type": "execute_result"
    }
   ],
   "source": [
    "# Top 3 similarity excluding itself\n",
    "print(type(similarity_matrix[0]))\n",
    "similarity_matrix[0].sort()\n",
    "similarity_matrix[0][-2:-5:-1]"
   ]
  },
  {
   "cell_type": "code",
   "execution_count": 20,
   "id": "eff58692",
   "metadata": {},
   "outputs": [
    {
     "data": {
      "text/plain": [
       "array([12, 10,  5], dtype=int64)"
      ]
     },
     "execution_count": 20,
     "metadata": {},
     "output_type": "execute_result"
    }
   ],
   "source": [
    "# Top 3 similarity excluding itself(index)\n",
    "similarity_matrix[0].argsort()[-2:-5:-1]"
   ]
  },
  {
   "cell_type": "markdown",
   "id": "422abda1",
   "metadata": {},
   "source": [
    "### making lookalike data"
   ]
  },
  {
   "cell_type": "code",
   "execution_count": 37,
   "id": "b72d13af",
   "metadata": {},
   "outputs": [],
   "source": [
    "lookalike_map = {}\n",
    "for i, customer_id in enumerate(customer_features['CustomerID'][:20]):\n",
    "    similar_indices = similarity_matrix[i].argsort()[-2:-5:-1]  # Top 3 excluding self\n",
    "    lookalike_map[customer_id] = [\n",
    "        (customer_features['CustomerID'][j], similarity_matrix[i][j]) for j in similar_indices\n",
    "    ]"
   ]
  },
  {
   "cell_type": "code",
   "execution_count": 38,
   "id": "5c9a6eda",
   "metadata": {},
   "outputs": [
    {
     "data": {
      "text/plain": [
       "{'C0001': [('C0019', 0.6575752856953185),\n",
       "  ('C0018', 0.5564178123279397),\n",
       "  ('C0017', 0.5052810071542508)],\n",
       " 'C0002': [('C0005', 0.842675039239537),\n",
       "  ('C0007', 0.8242287614562364),\n",
       "  ('C0016', 0.7861004897635816)],\n",
       " 'C0003': [('C0011', 0.8563439490410754),\n",
       "  ('C0006', 0.8102583320103939),\n",
       "  ('C0019', 0.6291948546719334)],\n",
       " 'C0004': [('C0012', 0.9882774069326655),\n",
       "  ('C0017', 0.9583251061097452),\n",
       "  ('C0011', 0.7443908256615475)],\n",
       " 'C0005': [('C0007', 0.9850051004178146),\n",
       "  ('C0002', 0.842675039239537),\n",
       "  ('C0020', 0.833494526627534)],\n",
       " 'C0006': [('C0011', 0.9400141381465871),\n",
       "  ('C0003', 0.8102583320103939),\n",
       "  ('C0012', 0.7320733968852458)],\n",
       " 'C0007': [('C0005', 0.9850051004178146),\n",
       "  ('C0002', 0.8242287614562364),\n",
       "  ('C0020', 0.7681358189808253)],\n",
       " 'C0008': [('C0017', 0.8068312622729276),\n",
       "  ('C0004', 0.6112440107784894),\n",
       "  ('C0018', 0.5813989494177129)],\n",
       " 'C0009': [('C0010', 0.9644911498203443),\n",
       "  ('C0020', 0.6225447357700417),\n",
       "  ('C0002', 0.5803037147202216)],\n",
       " 'C0010': [('C0009', 0.9644911498203443),\n",
       "  ('C0002', 0.5823596192661561),\n",
       "  ('C0016', 0.46860949102163985)],\n",
       " 'C0011': [('C0006', 0.9400141381465871),\n",
       "  ('C0003', 0.8563439490410754),\n",
       "  ('C0012', 0.8156386089207038)],\n",
       " 'C0012': [('C0004', 0.9882774069326655),\n",
       "  ('C0017', 0.917484385753763),\n",
       "  ('C0011', 0.8156386089207038)],\n",
       " 'C0013': [('C0001', 0.6575752856953185),\n",
       "  ('C0004', 0.5511742985969206),\n",
       "  ('C0012', 0.5273590800007766)],\n",
       " 'C0014': [('C0015', 0.81150830444828),\n",
       "  ('C0020', 0.7228546706349197),\n",
       "  ('C0003', 0.5734445942954377)],\n",
       " 'C0015': [('C0020', 0.8370929794306271),\n",
       "  ('C0014', 0.81150830444828),\n",
       "  ('C0005', 0.7112951193266942)],\n",
       " 'C0016': [('C0002', 0.7861004897635816),\n",
       "  ('C0007', 0.5236902713563469),\n",
       "  ('C0010', 0.46860949102163985)],\n",
       " 'C0017': [('C0004', 0.9583251061097452),\n",
       "  ('C0012', 0.917484385753763),\n",
       "  ('C0008', 0.8068312622729276)],\n",
       " 'C0018': [('C0008', 0.5813989494177129),\n",
       "  ('C0017', 0.4806294665716201),\n",
       "  ('C0012', 0.34413838803044944)],\n",
       " 'C0019': [('C0003', 0.6291948546719334),\n",
       "  ('C0011', 0.5652825800846254),\n",
       "  ('C0017', 0.44387820802312866)],\n",
       " 'C0020': [('C0015', 0.8370929794306271),\n",
       "  ('C0005', 0.833494526627534),\n",
       "  ('C0007', 0.7681358189808253)]}"
      ]
     },
     "execution_count": 38,
     "metadata": {},
     "output_type": "execute_result"
    }
   ],
   "source": [
    "lookalike_map"
   ]
  },
  {
   "cell_type": "markdown",
   "id": "f071a8ed",
   "metadata": {},
   "source": [
    "#### creating a dataframe"
   ]
  },
  {
   "cell_type": "code",
   "execution_count": 39,
   "id": "51f88a86",
   "metadata": {},
   "outputs": [
    {
     "data": {
      "text/html": [
       "<div>\n",
       "<style scoped>\n",
       "    .dataframe tbody tr th:only-of-type {\n",
       "        vertical-align: middle;\n",
       "    }\n",
       "\n",
       "    .dataframe tbody tr th {\n",
       "        vertical-align: top;\n",
       "    }\n",
       "\n",
       "    .dataframe thead th {\n",
       "        text-align: right;\n",
       "    }\n",
       "</style>\n",
       "<table border=\"1\" class=\"dataframe\">\n",
       "  <thead>\n",
       "    <tr style=\"text-align: right;\">\n",
       "      <th></th>\n",
       "      <th>CustomerID</th>\n",
       "      <th>Look-alike_1</th>\n",
       "      <th>Look-alike_2</th>\n",
       "      <th>Look-alike_3</th>\n",
       "    </tr>\n",
       "  </thead>\n",
       "  <tbody>\n",
       "    <tr>\n",
       "      <th>0</th>\n",
       "      <td>C0001</td>\n",
       "      <td>(C0019, 0.6575752856953185)</td>\n",
       "      <td>(C0018, 0.5564178123279397)</td>\n",
       "      <td>(C0017, 0.5052810071542508)</td>\n",
       "    </tr>\n",
       "    <tr>\n",
       "      <th>1</th>\n",
       "      <td>C0002</td>\n",
       "      <td>(C0005, 0.842675039239537)</td>\n",
       "      <td>(C0007, 0.8242287614562364)</td>\n",
       "      <td>(C0016, 0.7861004897635816)</td>\n",
       "    </tr>\n",
       "    <tr>\n",
       "      <th>2</th>\n",
       "      <td>C0003</td>\n",
       "      <td>(C0011, 0.8563439490410754)</td>\n",
       "      <td>(C0006, 0.8102583320103939)</td>\n",
       "      <td>(C0019, 0.6291948546719334)</td>\n",
       "    </tr>\n",
       "    <tr>\n",
       "      <th>3</th>\n",
       "      <td>C0004</td>\n",
       "      <td>(C0012, 0.9882774069326655)</td>\n",
       "      <td>(C0017, 0.9583251061097452)</td>\n",
       "      <td>(C0011, 0.7443908256615475)</td>\n",
       "    </tr>\n",
       "    <tr>\n",
       "      <th>4</th>\n",
       "      <td>C0005</td>\n",
       "      <td>(C0007, 0.9850051004178146)</td>\n",
       "      <td>(C0002, 0.842675039239537)</td>\n",
       "      <td>(C0020, 0.833494526627534)</td>\n",
       "    </tr>\n",
       "    <tr>\n",
       "      <th>5</th>\n",
       "      <td>C0006</td>\n",
       "      <td>(C0011, 0.9400141381465871)</td>\n",
       "      <td>(C0003, 0.8102583320103939)</td>\n",
       "      <td>(C0012, 0.7320733968852458)</td>\n",
       "    </tr>\n",
       "    <tr>\n",
       "      <th>6</th>\n",
       "      <td>C0007</td>\n",
       "      <td>(C0005, 0.9850051004178146)</td>\n",
       "      <td>(C0002, 0.8242287614562364)</td>\n",
       "      <td>(C0020, 0.7681358189808253)</td>\n",
       "    </tr>\n",
       "    <tr>\n",
       "      <th>7</th>\n",
       "      <td>C0008</td>\n",
       "      <td>(C0017, 0.8068312622729276)</td>\n",
       "      <td>(C0004, 0.6112440107784894)</td>\n",
       "      <td>(C0018, 0.5813989494177129)</td>\n",
       "    </tr>\n",
       "    <tr>\n",
       "      <th>8</th>\n",
       "      <td>C0009</td>\n",
       "      <td>(C0010, 0.9644911498203443)</td>\n",
       "      <td>(C0020, 0.6225447357700417)</td>\n",
       "      <td>(C0002, 0.5803037147202216)</td>\n",
       "    </tr>\n",
       "    <tr>\n",
       "      <th>9</th>\n",
       "      <td>C0010</td>\n",
       "      <td>(C0009, 0.9644911498203443)</td>\n",
       "      <td>(C0002, 0.5823596192661561)</td>\n",
       "      <td>(C0016, 0.46860949102163985)</td>\n",
       "    </tr>\n",
       "    <tr>\n",
       "      <th>10</th>\n",
       "      <td>C0011</td>\n",
       "      <td>(C0006, 0.9400141381465871)</td>\n",
       "      <td>(C0003, 0.8563439490410754)</td>\n",
       "      <td>(C0012, 0.8156386089207038)</td>\n",
       "    </tr>\n",
       "    <tr>\n",
       "      <th>11</th>\n",
       "      <td>C0012</td>\n",
       "      <td>(C0004, 0.9882774069326655)</td>\n",
       "      <td>(C0017, 0.917484385753763)</td>\n",
       "      <td>(C0011, 0.8156386089207038)</td>\n",
       "    </tr>\n",
       "    <tr>\n",
       "      <th>12</th>\n",
       "      <td>C0013</td>\n",
       "      <td>(C0001, 0.6575752856953185)</td>\n",
       "      <td>(C0004, 0.5511742985969206)</td>\n",
       "      <td>(C0012, 0.5273590800007766)</td>\n",
       "    </tr>\n",
       "    <tr>\n",
       "      <th>13</th>\n",
       "      <td>C0014</td>\n",
       "      <td>(C0015, 0.81150830444828)</td>\n",
       "      <td>(C0020, 0.7228546706349197)</td>\n",
       "      <td>(C0003, 0.5734445942954377)</td>\n",
       "    </tr>\n",
       "    <tr>\n",
       "      <th>14</th>\n",
       "      <td>C0015</td>\n",
       "      <td>(C0020, 0.8370929794306271)</td>\n",
       "      <td>(C0014, 0.81150830444828)</td>\n",
       "      <td>(C0005, 0.7112951193266942)</td>\n",
       "    </tr>\n",
       "    <tr>\n",
       "      <th>15</th>\n",
       "      <td>C0016</td>\n",
       "      <td>(C0002, 0.7861004897635816)</td>\n",
       "      <td>(C0007, 0.5236902713563469)</td>\n",
       "      <td>(C0010, 0.46860949102163985)</td>\n",
       "    </tr>\n",
       "    <tr>\n",
       "      <th>16</th>\n",
       "      <td>C0017</td>\n",
       "      <td>(C0004, 0.9583251061097452)</td>\n",
       "      <td>(C0012, 0.917484385753763)</td>\n",
       "      <td>(C0008, 0.8068312622729276)</td>\n",
       "    </tr>\n",
       "    <tr>\n",
       "      <th>17</th>\n",
       "      <td>C0018</td>\n",
       "      <td>(C0008, 0.5813989494177129)</td>\n",
       "      <td>(C0017, 0.4806294665716201)</td>\n",
       "      <td>(C0012, 0.34413838803044944)</td>\n",
       "    </tr>\n",
       "    <tr>\n",
       "      <th>18</th>\n",
       "      <td>C0019</td>\n",
       "      <td>(C0003, 0.6291948546719334)</td>\n",
       "      <td>(C0011, 0.5652825800846254)</td>\n",
       "      <td>(C0017, 0.44387820802312866)</td>\n",
       "    </tr>\n",
       "    <tr>\n",
       "      <th>19</th>\n",
       "      <td>C0020</td>\n",
       "      <td>(C0015, 0.8370929794306271)</td>\n",
       "      <td>(C0005, 0.833494526627534)</td>\n",
       "      <td>(C0007, 0.7681358189808253)</td>\n",
       "    </tr>\n",
       "  </tbody>\n",
       "</table>\n",
       "</div>"
      ],
      "text/plain": [
       "   CustomerID                 Look-alike_1                 Look-alike_2  \\\n",
       "0       C0001  (C0019, 0.6575752856953185)  (C0018, 0.5564178123279397)   \n",
       "1       C0002   (C0005, 0.842675039239537)  (C0007, 0.8242287614562364)   \n",
       "2       C0003  (C0011, 0.8563439490410754)  (C0006, 0.8102583320103939)   \n",
       "3       C0004  (C0012, 0.9882774069326655)  (C0017, 0.9583251061097452)   \n",
       "4       C0005  (C0007, 0.9850051004178146)   (C0002, 0.842675039239537)   \n",
       "5       C0006  (C0011, 0.9400141381465871)  (C0003, 0.8102583320103939)   \n",
       "6       C0007  (C0005, 0.9850051004178146)  (C0002, 0.8242287614562364)   \n",
       "7       C0008  (C0017, 0.8068312622729276)  (C0004, 0.6112440107784894)   \n",
       "8       C0009  (C0010, 0.9644911498203443)  (C0020, 0.6225447357700417)   \n",
       "9       C0010  (C0009, 0.9644911498203443)  (C0002, 0.5823596192661561)   \n",
       "10      C0011  (C0006, 0.9400141381465871)  (C0003, 0.8563439490410754)   \n",
       "11      C0012  (C0004, 0.9882774069326655)   (C0017, 0.917484385753763)   \n",
       "12      C0013  (C0001, 0.6575752856953185)  (C0004, 0.5511742985969206)   \n",
       "13      C0014    (C0015, 0.81150830444828)  (C0020, 0.7228546706349197)   \n",
       "14      C0015  (C0020, 0.8370929794306271)    (C0014, 0.81150830444828)   \n",
       "15      C0016  (C0002, 0.7861004897635816)  (C0007, 0.5236902713563469)   \n",
       "16      C0017  (C0004, 0.9583251061097452)   (C0012, 0.917484385753763)   \n",
       "17      C0018  (C0008, 0.5813989494177129)  (C0017, 0.4806294665716201)   \n",
       "18      C0019  (C0003, 0.6291948546719334)  (C0011, 0.5652825800846254)   \n",
       "19      C0020  (C0015, 0.8370929794306271)   (C0005, 0.833494526627534)   \n",
       "\n",
       "                    Look-alike_3  \n",
       "0    (C0017, 0.5052810071542508)  \n",
       "1    (C0016, 0.7861004897635816)  \n",
       "2    (C0019, 0.6291948546719334)  \n",
       "3    (C0011, 0.7443908256615475)  \n",
       "4     (C0020, 0.833494526627534)  \n",
       "5    (C0012, 0.7320733968852458)  \n",
       "6    (C0020, 0.7681358189808253)  \n",
       "7    (C0018, 0.5813989494177129)  \n",
       "8    (C0002, 0.5803037147202216)  \n",
       "9   (C0016, 0.46860949102163985)  \n",
       "10   (C0012, 0.8156386089207038)  \n",
       "11   (C0011, 0.8156386089207038)  \n",
       "12   (C0012, 0.5273590800007766)  \n",
       "13   (C0003, 0.5734445942954377)  \n",
       "14   (C0005, 0.7112951193266942)  \n",
       "15  (C0010, 0.46860949102163985)  \n",
       "16   (C0008, 0.8068312622729276)  \n",
       "17  (C0012, 0.34413838803044944)  \n",
       "18  (C0017, 0.44387820802312866)  \n",
       "19   (C0007, 0.7681358189808253)  "
      ]
     },
     "execution_count": 39,
     "metadata": {},
     "output_type": "execute_result"
    }
   ],
   "source": [
    "zeotap=pd.DataFrame.from_dict(lookalike_map,orient='index').reset_index()\n",
    "zeotap.rename(columns={'index':'CustomerID',0:'Look-alike_1',1:'Look-alike_2',2:'Look-alike_3'},inplace=True)\n",
    "zeotap"
   ]
  },
  {
   "cell_type": "markdown",
   "id": "38808302",
   "metadata": {},
   "source": [
    "#### saving the dataset"
   ]
  },
  {
   "cell_type": "code",
   "execution_count": 42,
   "id": "6f3ccd6b",
   "metadata": {},
   "outputs": [],
   "source": [
    "zeotap.to_csv('C:/Users/HP/OneDrive/Desktop/Zeotap Assignment/Abhinav_Singh_Lookalike.csv',index=False)"
   ]
  }
 ],
 "metadata": {
  "kernelspec": {
   "display_name": "Python 3 (ipykernel)",
   "language": "python",
   "name": "python3"
  },
  "language_info": {
   "codemirror_mode": {
    "name": "ipython",
    "version": 3
   },
   "file_extension": ".py",
   "mimetype": "text/x-python",
   "name": "python",
   "nbconvert_exporter": "python",
   "pygments_lexer": "ipython3",
   "version": "3.11.3"
  }
 },
 "nbformat": 4,
 "nbformat_minor": 5
}
